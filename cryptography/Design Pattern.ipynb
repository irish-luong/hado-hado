{
 "cells": [
  {
   "cell_type": "code",
   "execution_count": 5,
   "id": "straight-effect",
   "metadata": {},
   "outputs": [
    {
     "name": "stdout",
     "output_type": "stream",
     "text": [
      "<__main__.Singleton object at 0x10fd613a0>\n",
      "<__main__.Model object at 0x10fd61d90>\n",
      "<__main__.Singleton object at 0x10fd613a0>\n",
      "<__main__.Model object at 0x10fd61d90>\n"
     ]
    }
   ],
   "source": [
    "# Singleton\n",
    "\n",
    "class Model:\n",
    "    \n",
    "    def predict(self):\n",
    "        print('I am predicting')\n",
    "        \n",
    "    def __call__(self):\n",
    "        print('hello models')\n",
    "\n",
    "class Singleton:\n",
    "    __instance = None\n",
    "    \n",
    "    @staticmethod\n",
    "    def getInstance():\n",
    "        \"\"\" Static access method. \"\"\"\n",
    "        if Singleton.__instance == None:\n",
    "            Singleton()\n",
    "        return Singleton.__instance\n",
    "    \n",
    "    def __init__(self):\n",
    "        \"\"\" Virtually private constructor. \"\"\"\n",
    "        \n",
    "        if Singleton.__instance != None:\n",
    "            raise Exception(\"This class is a singleton!\")\n",
    "        else:\n",
    "            Singleton.__instance = self\n",
    "            self.model = Model()\n",
    "s = Singleton()\n",
    "print(s)\n",
    "\n",
    "s = Singleton.getInstance()\n",
    "model = s.model\n",
    "print(model)\n",
    "\n",
    "s = Singleton.getInstance()\n",
    "print(s)\n",
    "print(s.model)"
   ]
  },
  {
   "cell_type": "code",
   "execution_count": 16,
   "id": "binding-rebecca",
   "metadata": {},
   "outputs": [
    {
     "name": "stdout",
     "output_type": "stream",
     "text": [
      "<__main__.Model object at 0x10fcd5280>\n",
      "<__main__.Model object at 0x10fcd5280>\n"
     ]
    }
   ],
   "source": [
    "#  Builder\n",
    "# https://www.toptal.com/python/python-design-patterns\n",
    "\n",
    "\n",
    "class Model():\n",
    "    pass\n",
    "\n",
    "class Logger(object):\n",
    "    \n",
    "    def __init__(self):\n",
    "        self.model = Model\n",
    "    def __new__(cls, *args, **kwargs):\n",
    "        if not hasattr(cls, '_logger'):\n",
    "            cls._logger = super(Logger, cls\n",
    "                    ).__new__(cls, *args, **kwargs)\n",
    "        return cls._logger\n",
    "    \n",
    "a = Logger()\n",
    "print(a.model())\n",
    "b = Logger()\n",
    "print(b.model())"
   ]
  },
  {
   "cell_type": "code",
   "execution_count": 34,
   "id": "neural-ambassador",
   "metadata": {},
   "outputs": [
    {
     "ename": "ModuleNotFoundError",
     "evalue": "No module named 'serum'",
     "output_type": "error",
     "traceback": [
      "\u001b[0;31m---------------------------------------------------------------------------\u001b[0m",
      "\u001b[0;31mModuleNotFoundError\u001b[0m                       Traceback (most recent call last)",
      "\u001b[0;32m<ipython-input-34-9d0663decc76>\u001b[0m in \u001b[0;36m<module>\u001b[0;34m\u001b[0m\n\u001b[1;32m      1\u001b[0m \u001b[0;31m#  Dependency injection\u001b[0m\u001b[0;34m\u001b[0m\u001b[0;34m\u001b[0m\u001b[0;34m\u001b[0m\u001b[0m\n\u001b[0;32m----> 2\u001b[0;31m \u001b[0;32mfrom\u001b[0m \u001b[0mserum\u001b[0m \u001b[0;32mimport\u001b[0m \u001b[0mdependency\u001b[0m\u001b[0;34m\u001b[0m\u001b[0;34m\u001b[0m\u001b[0m\n\u001b[0m",
      "\u001b[0;31mModuleNotFoundError\u001b[0m: No module named 'serum'"
     ]
    }
   ],
   "source": [
    "#  Dependency injection\n",
    "from serum import dependency"
   ]
  }
 ],
 "metadata": {
  "kernelspec": {
   "display_name": "Python 3",
   "language": "python",
   "name": "python3"
  },
  "language_info": {
   "codemirror_mode": {
    "name": "ipython",
    "version": 3
   },
   "file_extension": ".py",
   "mimetype": "text/x-python",
   "name": "python",
   "nbconvert_exporter": "python",
   "pygments_lexer": "ipython3",
   "version": "3.9.2"
  }
 },
 "nbformat": 4,
 "nbformat_minor": 5
}
