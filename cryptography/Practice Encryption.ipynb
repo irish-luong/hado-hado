{
 "cells": [
  {
   "cell_type": "code",
   "execution_count": 12,
   "id": "stunning-belize",
   "metadata": {},
   "outputs": [
    {
     "name": "stdout",
     "output_type": "stream",
     "text": [
      "12\n"
     ]
    }
   ],
   "source": [
    "#  Affine Cipher: Condition\n",
    "\n",
    "import math \n",
    "  \n",
    "\n",
    "# Find gcd\n",
    "print (math.gcd(60,48)) \n"
   ]
  },
  {
   "cell_type": "markdown",
   "id": "decimal-shopper",
   "metadata": {},
   "source": [
    "## Practice Affine Cipher"
   ]
  },
  {
   "cell_type": "code",
   "execution_count": 61,
   "id": "removable-height",
   "metadata": {},
   "outputs": [],
   "source": [
    "import random\n",
    "\n",
    "# Generater 2 key a and b\n",
    "MAX_RANGE = 10**10\n",
    "\n",
    "key_a = random.randint(0, MAX_RANGE)\n",
    "key_b = random.randint(0, MAX_RANGE)"
   ]
  },
  {
   "cell_type": "markdown",
   "id": "preliminary-culture",
   "metadata": {},
   "source": [
    "## Vigenere cipher"
   ]
  },
  {
   "cell_type": "code",
   "execution_count": 8,
   "id": "radio-durham",
   "metadata": {},
   "outputs": [
    {
     "data": {
      "text/plain": [
       "1"
      ]
     },
     "execution_count": 8,
     "metadata": {},
     "output_type": "execute_result"
    }
   ],
   "source": [
    "#  ENCRYPT\n",
    "#  Convert plain text to integer \n",
    "#  Write 2 line plaintext and repeate the key to get the same length with plaintext\n",
    "#  Add the keyword then modulo 26\n",
    "#  Convert integers to string to get the cipher text\n",
    "\n",
    "# DECRYPT\n",
    "#  Convert plain text to integer \n",
    "#  Write down the key\n",
    "#  Convert with 26\n",
    "#  Convert integer to string\n",
    "\n",
    "\n",
    "# KEYSPACE\n",
    "# 26**m with m is the lenght of the keyword\n",
    "# "
   ]
  },
  {
   "cell_type": "markdown",
   "id": "appointed-guide",
   "metadata": {},
   "source": [
    "## Hill cipher"
   ]
  },
  {
   "cell_type": "code",
   "execution_count": 59,
   "id": "fitted-ghost",
   "metadata": {},
   "outputs": [],
   "source": [
    "# Basic linear algebra\n",
    "# Identity matrix: a square matrix with 1's \n",
    "# Inverse matrix:\n",
    "\n",
    "# KEY SPACE\n",
    "# log2(26**(n**2))\n",
    "     \n",
    "import numpy as np\n",
    "k = np.matrix([[13, 9], [6, 8]])\n",
    "\n",
    "x = \"good\"\n",
    "\n",
    "def is_inverse(matrix: np.matrix):\n",
    "    \n",
    "    if math.gcd(int(np.linalg.det(k)), 26) == 1:\n",
    "        print(\"We can encrypt nd decrypt this text\")\n",
    "        return True\n",
    "    return False"
   ]
  },
  {
   "cell_type": "code",
   "execution_count": 46,
   "id": "spread-generic",
   "metadata": {},
   "outputs": [
    {
     "name": "stdout",
     "output_type": "stream",
     "text": [
      "We can encrypt nd decrypt this text\n",
      "True\n",
      "[[ 0 18]]\n",
      "[[8 9]]\n",
      "plaintext is good = 614143 ->> ciphertext = asij\n"
     ]
    }
   ],
   "source": [
    "k2 = np.matrix([[11, 8], [12, 9]])\n",
    "print(is_inverse(k2))\n",
    "\n",
    "text = \"good = 614143\"\n",
    "\n",
    "cal1 = np.matrix([6, 14]) * k2\n",
    "print(cal1 % 26)\n",
    "\n",
    "cal2 = np.matrix([14, 3]) * k2\n",
    "print(cal2 % 26)\n",
    "\n",
    "print(f\"plaintext is {text} ->> ciphertext = asij\" )"
   ]
  },
  {
   "cell_type": "code",
   "execution_count": 60,
   "id": "exciting-childhood",
   "metadata": {},
   "outputs": [
    {
     "data": {
      "text/plain": [
       "matrix([[25, 24],\n",
       "        [10, 19]])"
      ]
     },
     "execution_count": 60,
     "metadata": {},
     "output_type": "execute_result"
    }
   ],
   "source": [
    "3*-1 * np.matrix([[9, -8], [-12, 11]]) %26"
   ]
  },
  {
   "cell_type": "code",
   "execution_count": 29,
   "id": "exceptional-worry",
   "metadata": {},
   "outputs": [
    {
     "name": "stdout",
     "output_type": "stream",
     "text": [
      "ubbahkcapjkx\n"
     ]
    },
    {
     "data": {
      "text/plain": [
       "True"
      ]
     },
     "execution_count": 29,
     "metadata": {},
     "output_type": "execute_result"
    }
   ],
   "source": [
    "def get_index(s: str) -> int:\n",
    "    return ord(s.lower()) - 97\n",
    "\n",
    "def is_coprime(a: int, b: int) -> bool:\n",
    "    \n",
    "    def gcd(a, b) -> int:\n",
    "        while b != 0:\n",
    "            a, b = b, a % b\n",
    "        return a\n",
    "    return gcd(a, b) == 1\n",
    "\n",
    "\n",
    "def affine_encypt(text: str, key: tuple, m: int = 26) -> str:\n",
    "    # Formula is E(x) = (ax + b) mod m\n",
    "    \n",
    "    # Check b and m are coprime    \n",
    "    assert is_coprime(key[0], m)\n",
    "    \n",
    "    return ''.join(\n",
    "        chr(\n",
    "            (key[0] * (ord(s) - ord('a')) + key[1]) % 26 + ord('a')\n",
    "        ) for s in text.lower().replace(' ', '')\n",
    "    )\n",
    "    \n",
    "print(affine_encypt('AFFINE CIPHER', [17, 20]))\n",
    "\n",
    "is_coprime(17, 26)"
   ]
  },
  {
   "cell_type": "code",
   "execution_count": 14,
   "id": "ideal-aggregate",
   "metadata": {},
   "outputs": [],
   "source": [
    "def affine_encrypt(text, key): \n",
    "    ''' \n",
    "    C = (a*P + b) % 26 \n",
    "    '''\n",
    "    return ''.join([ chr((( key[0]*(ord(t) - ord('A')) + key[1] ) % 26)  \n",
    "                  + ord('A')) for t in text.upper().replace(' ', '') ])"
   ]
  },
  {
   "cell_type": "code",
   "execution_count": null,
   "id": "comfortable-jaguar",
   "metadata": {},
   "outputs": [],
   "source": []
  }
 ],
 "metadata": {
  "kernelspec": {
   "display_name": "Python 3",
   "language": "python",
   "name": "python3"
  },
  "language_info": {
   "codemirror_mode": {
    "name": "ipython",
    "version": 3
   },
   "file_extension": ".py",
   "mimetype": "text/x-python",
   "name": "python",
   "nbconvert_exporter": "python",
   "pygments_lexer": "ipython3",
   "version": "3.9.1"
  }
 },
 "nbformat": 4,
 "nbformat_minor": 5
}
