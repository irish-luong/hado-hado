{
 "cells": [
  {
   "cell_type": "markdown",
   "id": "illegal-leather",
   "metadata": {},
   "source": [
    "### Modular arithmetic\n",
    "\n",
    "x = y mod m if y = m*k + x and 0 <= x <= \n",
    "\n",
    "### Arithmetic Modulo m in Zm\n",
    "\n",
    "\n",
    "### The shift cipher\n",
    "\n"
   ]
  },
  {
   "cell_type": "code",
   "execution_count": 18,
   "id": "russian-andrews",
   "metadata": {},
   "outputs": [
    {
     "name": "stdout",
     "output_type": "stream",
     "text": [
      "sha3_256 of 'my name is Max' is fe8f48570a95df9b11bcc8454f09ab5b2c2ee66f36cf0c2b75abd4a475c330df\n"
     ]
    }
   ],
   "source": [
    "import hashlib, binascii\n",
    "\n",
    "\n",
    "# Try to hash a plain text with sha3_256 then show to screen as a hexa of binary chain\n",
    "\n",
    "# Return the hexadecimal representation of the binary data. \n",
    "# Every byte of data is converted into the corresponding 2-digit hex representation. \n",
    "# The returned bytes object is therefore twice as long as the length of data.\n",
    "\n",
    "sha3_256hash = hashlib.sha3_256(b'my name is Max').digest()\n",
    "print(f\"sha3_256 of 'my name is Max' is {binascii.hexlify(sha3_256hash).decode('utf-8')}\")\n"
   ]
  }
 ],
 "metadata": {
  "kernelspec": {
   "display_name": "Python 3",
   "language": "python",
   "name": "python3"
  },
  "language_info": {
   "codemirror_mode": {
    "name": "ipython",
    "version": 3
   },
   "file_extension": ".py",
   "mimetype": "text/x-python",
   "name": "python",
   "nbconvert_exporter": "python",
   "pygments_lexer": "ipython3",
   "version": "3.9.1"
  }
 },
 "nbformat": 4,
 "nbformat_minor": 5
}
